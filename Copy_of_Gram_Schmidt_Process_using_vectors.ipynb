{
  "nbformat": 4,
  "nbformat_minor": 0,
  "metadata": {
    "colab": {
      "provenance": [],
      "authorship_tag": "ABX9TyNZJtIpNJvB0x3LNGsLLi4k",
      "include_colab_link": true
    },
    "kernelspec": {
      "name": "python3",
      "display_name": "Python 3"
    },
    "language_info": {
      "name": "python"
    }
  },
  "cells": [
    {
      "cell_type": "markdown",
      "metadata": {
        "id": "view-in-github",
        "colab_type": "text"
      },
      "source": [
        "<a href=\"https://colab.research.google.com/github/ValerieHazelton/Math311_Linear_Algebra_Projects/blob/main/Copy_of_Gram_Schmidt_Process_using_vectors.ipynb\" target=\"_parent\"><img src=\"https://colab.research.google.com/assets/colab-badge.svg\" alt=\"Open In Colab\"/></a>"
      ]
    },
    {
      "cell_type": "markdown",
      "source": [
        "# ▶ Finding orthonormal vectors using the Gram Schmidt Orthonormalization Process ◀\n",
        ":\n",
        "Starting with the vectors:\n",
        "$$ R_1 = \\left (\\begin{array}{c}\n",
        "                3\\\\0\\\\3\\\\0\\\\\n",
        "                \\end{array}\\right)\n",
        "R_2 = \\left (\\begin{array}{c}\n",
        "                3\\\\2\\\\3\\\\3\\\\\n",
        "                \\end{array}\\right)\n",
        "R_3 = \\left (\\begin{array}{c}\n",
        "                -7\\\\-4\\\\-5\\\\-6\\\\\n",
        "                \\end{array}\\right)\n",
        "R_4 = \\left (\\begin{array}{c}\n",
        "                -7\\\\-3\\\\-11\\\\2\\\\\n",
        "                \\end{array}\\right)\n",
        "$$\n"
      ],
      "metadata": {
        "id": "IzTGmOLsyr38"
      }
    },
    {
      "cell_type": "code",
      "execution_count": 1,
      "metadata": {
        "id": "Xe1AiBtnweOW"
      },
      "outputs": [],
      "source": [
        "import numpy as np\n"
      ]
    },
    {
      "cell_type": "code",
      "source": [
        "# let's try and create a vector\n",
        "\n",
        "v = np.array([1,2,3,4])\n",
        "v2 = np.array([0,0,1,0])\n",
        "v\n",
        "\n",
        "#dot products\n",
        "\n",
        "v.dot(v)\n",
        "\n",
        "# we have a dot product!\n",
        "\n",
        "# find the magnitude of a vector\n",
        "# no easy code.. use v.dot(v) and take the square root\n",
        "\n",
        "np.sqrt(v.dot(v))\n",
        "\n",
        "# how about linear combinations\n",
        "# 2*v + 3*v2\n",
        "\n",
        "2*v + 3*v2\n",
        "\n",
        "#yay!\n"
      ],
      "metadata": {
        "colab": {
          "base_uri": "https://localhost:8080/"
        },
        "id": "h3lD2-QEw8NO",
        "outputId": "0d4b72e8-267e-4921-a618-78fc68c2977b"
      },
      "execution_count": 2,
      "outputs": [
        {
          "output_type": "execute_result",
          "data": {
            "text/plain": [
              "array([2, 4, 9, 8])"
            ]
          },
          "metadata": {},
          "execution_count": 2
        }
      ]
    },
    {
      "cell_type": "code",
      "source": [
        "#  create four vectors in numpy:\n",
        "r1 = np.array([3,0,3,0])\n",
        "r2 = np.array([3,2,3,3])\n",
        "r3 = np.array([-7,-4,-5,-6])\n",
        "r4 = np.array([-7,-3,-11,2])\n",
        "\n",
        "r1,r2,r3,r4"
      ],
      "metadata": {
        "colab": {
          "base_uri": "https://localhost:8080/"
        },
        "id": "aXD8WggO1RWn",
        "outputId": "3b0898ea-40d7-462a-837e-54030b674bff"
      },
      "execution_count": 3,
      "outputs": [
        {
          "output_type": "execute_result",
          "data": {
            "text/plain": [
              "(array([3, 0, 3, 0]),\n",
              " array([3, 2, 3, 3]),\n",
              " array([-7, -4, -5, -6]),\n",
              " array([ -7,  -3, -11,   2]))"
            ]
          },
          "metadata": {},
          "execution_count": 3
        }
      ]
    },
    {
      "cell_type": "code",
      "source": [
        "# process the first vector\n",
        "#  step 1: select r1 and subtract all the \"nice\" vectors\n",
        "\n",
        "t1 = r1\n",
        "\n",
        "#   step 2: find the magnitude of t1:\n",
        "\n",
        "n1 = np.sqrt(t1.dot(t1))\n",
        "\n",
        "print(\"the magnitude of t1=\", t1, \"is\", n1)\n",
        "\n",
        "# step 3: create the first \"nice\" vector:\n",
        "\n",
        "u1 = (1/n1) * t1\n",
        "print(\"u1 =\", u1)"
      ],
      "metadata": {
        "colab": {
          "base_uri": "https://localhost:8080/"
        },
        "id": "viuZndR_5BS9",
        "outputId": "6d4aef5a-5564-4df2-9788-1d59c68bfab3"
      },
      "execution_count": 4,
      "outputs": [
        {
          "output_type": "stream",
          "name": "stdout",
          "text": [
            "the magnitude of t1= [3 0 3 0] is 4.242640687119285\n",
            "u1 = [0.70710678 0.         0.70710678 0.        ]\n"
          ]
        }
      ]
    },
    {
      "cell_type": "code",
      "source": [
        "# check the reasonableness of u1:\n",
        "# does u1 have size 1?\n",
        "\n",
        "print(\"size of u1 is\",np.sqrt(u1.dot(u1)))\n",
        "\n",
        "# is u1 orthogonal to all other u's?"
      ],
      "metadata": {
        "colab": {
          "base_uri": "https://localhost:8080/"
        },
        "id": "WXWG4_-u6Alp",
        "outputId": "66375664-8575-45ec-8636-f26f1d0a36f5"
      },
      "execution_count": 5,
      "outputs": [
        {
          "output_type": "stream",
          "name": "stdout",
          "text": [
            "size of u1 is 1.0\n"
          ]
        }
      ]
    },
    {
      "cell_type": "code",
      "source": [
        "# process the second vector\n",
        "#  step 1: select r2 and subtract all the \"nice\" vectors\n",
        "\n",
        "t2 = r2 - (r2.dot(u1))*u1\n",
        "\n",
        "#   step 2: find the magnitude of t1:\n",
        "\n",
        "n2 = np.sqrt(t2.dot(t2))\n",
        "\n",
        "print(\"the magnitude of t2=\", t2, \"is\", n2)\n",
        "\n",
        "# step 3: create the first \"nice\" vector:\n",
        "\n",
        "u2 = (1/n2) * t2\n",
        "print(\"u2 =\", u2)"
      ],
      "metadata": {
        "colab": {
          "base_uri": "https://localhost:8080/"
        },
        "id": "H5kqwp_e4wV_",
        "outputId": "11d2ef6a-d44e-4848-e916-5c0b0b9ca34e"
      },
      "execution_count": 6,
      "outputs": [
        {
          "output_type": "stream",
          "name": "stdout",
          "text": [
            "the magnitude of t2= [-4.4408921e-16  2.0000000e+00 -4.4408921e-16  3.0000000e+00] is 3.605551275463989\n",
            "u2 = [-1.23168186e-16  5.54700196e-01 -1.23168186e-16  8.32050294e-01]\n"
          ]
        }
      ]
    },
    {
      "cell_type": "code",
      "source": [
        "# check the reasonableness of u2:\n",
        "# does u2 have size 1?\n",
        "\n",
        "print(\"size of u2 is\",np.sqrt(u2.dot(u2)))\n",
        "\n",
        "# is u1 orthogonal to all other u's?\n",
        "\n",
        "print(\"dot of u1 with u2 is\",u1.dot(u2))"
      ],
      "metadata": {
        "colab": {
          "base_uri": "https://localhost:8080/"
        },
        "id": "1Mti3iqd6aji",
        "outputId": "bbe309ae-7589-4397-8e22-2ad52ccd56c3"
      },
      "execution_count": 7,
      "outputs": [
        {
          "output_type": "stream",
          "name": "stdout",
          "text": [
            "size of u2 is 1.0\n",
            "dot of u1 with u2 is -1.741861189847285e-16\n"
          ]
        }
      ]
    },
    {
      "cell_type": "code",
      "source": [
        "# process the third vector\n",
        "#  step 1: select r3 and subtract all the \"nice\" vectors\n",
        "\n",
        "t3 = r3 - (r3.dot(u1))*u1 - (r3.dot(u2))*u2\n",
        "\n",
        "#   step 2: find the magnitude of t2:\n",
        "\n",
        "n3 = np.sqrt(t3.dot(t3))\n",
        "\n",
        "print(\"the magnitude of t3=\", t3, \"is\", n3)\n",
        "\n",
        "# step 3: create the first \"nice\" vector:\n",
        "\n",
        "u3 = (1/n3) * t3\n",
        "print(\"u3 =\", u3)"
      ],
      "metadata": {
        "colab": {
          "base_uri": "https://localhost:8080/"
        },
        "id": "qpG-Ivfu686m",
        "outputId": "7d1ef465-eea4-4996-c37b-e24414c33ce0"
      },
      "execution_count": 8,
      "outputs": [
        {
          "output_type": "stream",
          "name": "stdout",
          "text": [
            "the magnitude of t3= [-1.0000000e+00 -4.4408921e-16  1.0000000e+00 -8.8817842e-16] is 1.4142135623730951\n",
            "u3 = [-7.07106781e-01 -3.14018492e-16  7.07106781e-01 -6.28036983e-16]\n"
          ]
        }
      ]
    },
    {
      "cell_type": "code",
      "source": [
        "# check the reasonableness of u3:\n",
        "# does u3 have size 1?\n",
        "\n",
        "print(\"size of u3 is\",np.sqrt(u3.dot(u3)))\n",
        "\n",
        "# is u3 orthogonal to all other u's?\n",
        "\n",
        "print(\"dot of u3 with u2 is\",u3.dot(u2))\n",
        "print(\"dot of u3 with u1 is\",u3.dot(u1))"
      ],
      "metadata": {
        "colab": {
          "base_uri": "https://localhost:8080/"
        },
        "id": "rDbzr5SL7mLl",
        "outputId": "218c183a-ca21-4be2-bdea-de8e0c98260b"
      },
      "execution_count": 9,
      "outputs": [
        {
          "output_type": "stream",
          "name": "stdout",
          "text": [
            "size of u3 is 0.9999999999999999\n",
            "dot of u3 with u2 is -6.967444759389139e-16\n",
            "dot of u3 with u1 is 0.0\n"
          ]
        }
      ]
    },
    {
      "cell_type": "code",
      "source": [
        "# process the fourth vector\n",
        "#  step 1: select r4 and subtract all the \"nice\" vectors\n",
        "\n",
        "t4 = r4 - (r4.dot(u1))*u1 - (r4.dot(u2))*u2 - (r4.dot(u3))*u3\n",
        "\n",
        "#   step 2: find the magnitude of t4:\n",
        "\n",
        "n4 = np.sqrt(t4.dot(t4))\n",
        "\n",
        "print(\"the magnitude of t4=\", t4, \"is\", n4)\n",
        "\n",
        "# step 3: create the first \"nice\" vector:\n",
        "\n",
        "u4 = (1/n4) * t4\n",
        "print(\"u4 =\", u4)"
      ],
      "metadata": {
        "colab": {
          "base_uri": "https://localhost:8080/"
        },
        "id": "BAA9oMU47n2H",
        "outputId": "bef21996-d756-40b2-9707-71df0161fe3d"
      },
      "execution_count": 10,
      "outputs": [
        {
          "output_type": "stream",
          "name": "stdout",
          "text": [
            "the magnitude of t4= [ 0. -3.  0.  2.] is 3.605551275463989\n",
            "u4 = [ 0.         -0.83205029  0.          0.5547002 ]\n"
          ]
        }
      ]
    },
    {
      "cell_type": "code",
      "source": [
        "# check the reasonableness of u4:\n",
        "# does u4 have size 1?\n",
        "\n",
        "print(\"size of u4 is\",np.sqrt(u4.dot(u4)))\n",
        "\n",
        "# is u4 orthogonal to all other u's?\n",
        "\n",
        "print(\"dot of u4 with u3 is\",u4.dot(u3))\n",
        "print(\"dot of u4 with u2 is\",u4.dot(u2))\n",
        "print(\"dot of u4 with u1 is\",u4.dot(u1))"
      ],
      "metadata": {
        "colab": {
          "base_uri": "https://localhost:8080/"
        },
        "id": "59giGOcZ716H",
        "outputId": "6b4c1402-69f1-437f-b3e7-159cbbf54308"
      },
      "execution_count": 11,
      "outputs": [
        {
          "output_type": "stream",
          "name": "stdout",
          "text": [
            "size of u4 is 1.0\n",
            "dot of u4 with u3 is -8.709305949236341e-17\n",
            "dot of u4 with u2 is -1.2212453270876722e-15\n",
            "dot of u4 with u1 is 0.0\n"
          ]
        }
      ]
    },
    {
      "cell_type": "code",
      "source": [],
      "metadata": {
        "id": "gg4ReU6o8Onc"
      },
      "execution_count": 11,
      "outputs": []
    }
  ]
}